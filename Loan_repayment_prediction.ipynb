{
  "nbformat": 4,
  "nbformat_minor": 0,
  "metadata": {
    "colab": {
      "provenance": []
    },
    "kernelspec": {
      "name": "python3",
      "display_name": "Python 3"
    },
    "language_info": {
      "name": "python"
    }
  },
  "cells": [
    {
      "cell_type": "code",
      "execution_count": null,
      "metadata": {
        "id": "j7HiYYL33ha_"
      },
      "outputs": [],
      "source": [
        "from sklearn.linear_model import LogisticRegression\n",
        "from sklearn import metrics\n",
        "import numpy as np\n",
        "import pandas as pd"
      ]
    },
    {
      "cell_type": "code",
      "source": [
        "# Read in loan data from a CSV file\n",
        "df = pd.read_csv('loan_data_created.csv')\n",
        "\n",
        "# Feature Engineering\n",
        "features = ['credit_lines_outstanding', 'debt_to_income', 'payment_to_income', 'years_employed', 'fico_score']\n",
        "#  payment_to_income ratio\n",
        "df['payment_to_income'] = df['loan_amt_outstanding'] / df['income']\n",
        "#debt_to_income ratio\n",
        "df['debt_to_income'] = df['total_debt_outstanding'] / df['income']\n",
        "clf = LogisticRegression(random_state=0, solver='liblinear', tol=1e-5, max_iter=10000).fit(df[features], df['default'])\n",
        "print(clf.coef_, clf.intercept_)\n"
      ],
      "metadata": {
        "id": "XI2T0KJv7tea"
      },
      "execution_count": null,
      "outputs": []
    },
    {
      "cell_type": "code",
      "source": [
        "\n",
        "y_pred = clf.predict(df[features])\n",
        "fpr, tpr, thresholds = metrics.roc_curve(df['default'], y_pred)\n",
        "print((1.0*(abs(df['default']-y_pred)).sum()) / len(df))\n",
        "print(metrics.auc(fpr, tpr))"
      ],
      "metadata": {
        "id": "P2hyS2v-8E0K"
      },
      "execution_count": null,
      "outputs": []
    },
    {
      "cell_type": "code",
      "source": [
        "x = df['default'].to_list()\n",
        "y = df['fico_score'].to_list()\n",
        "n = len(x)\n",
        "print (len(x), len(y))\n",
        "\n",
        "default = [0 for i in range(851)]\n",
        "total = [0 for i in range(851)]\n",
        "\n",
        "for i in range(n):\n",
        "    y[i] = int(y[i])\n",
        "    default[y[i]-300] += x[i]\n",
        "    total[y[i]-300] += 1\n",
        "\n",
        "for i in range(0, 551):\n",
        "    default[i] += default[i-1]\n",
        "    total[i] += total[i-1]\n",
        "\n",
        "import numpy as np\n",
        "\n",
        "def log_likelihood(n, k):\n",
        "    p = k/n\n",
        "    if (p==0 or p==1):\n",
        "        return 0\n",
        "    return k*np.log(p)+ (n-k)*np.log(1-p)\n",
        "\n",
        "r = 10\n",
        "dp = [[[-10**18, 0] for i in range(551)] for j in range(r+1)]\n",
        "\n",
        "for i in range(r+1):\n",
        "    for j in range(551):\n",
        "        if (i==0):\n",
        "            dp[i][j][0] = 0\n",
        "        else:\n",
        "            for k in range(j):\n",
        "                if (total[j]==total[k]):\n",
        "                    continue\n",
        "                if (i==1):\n",
        "                    dp[i][j][0] = log_likelihood(total[j], default[j])\n",
        "                else:\n",
        "                    if (dp[i][j][0] < (dp[i-1][k][0] + log_likelihood(total[j]-total[k], default[j] - default[k]))):\n",
        "                        dp[i][j][0] = log_likelihood(total[j]-total[k], default[j]-default[k]) + dp[i-1][k][0]\n",
        "                        dp[i][j][1] = k\n",
        "\n",
        "print (round(dp[r][550][0], 4))\n",
        "\n",
        "k = 550\n",
        "l = []\n",
        "while r >= 0:\n",
        "    l.append(k+300)\n",
        "    k = dp[r][k][1]\n",
        "    r -= 1\n",
        "\n",
        "print(l)"
      ],
      "metadata": {
        "id": "E2vtcFGc8Fyc"
      },
      "execution_count": null,
      "outputs": []
    },
    {
      "cell_type": "markdown",
      "source": [
        "The provided code performs data analysis by calculating the probability of default for a given set of observations. The technique used for this analysis is maximum likelihood estimation. The intuition behind the usage of maximum likelihood estimation is that it is a common method for estimating the parameters of a statistical model. In this case, the parameters are the probabilities of default for different sets of observations. Maximum likelihood estimation seeks to find the parameter values that maximize the likelihood function for the observed data.\n",
        "\n",
        "The code first reads in a CSV file using Pandas. It then creates two lists, x and y, that correspond to the 'observation' and 'rank' columns in the data, respectively. These lists are then used to calculate the default and total values for each rank in the data.\n",
        "\n",
        "The log-likelihood function is defined to calculate the likelihood of a given set of parameters. The likelihood function is used to calculate the probability of observing the data given the parameter values. The code then initializes a three-dimensional array, dp, that is used to store the calculated log-likelihood values for different sets of observations. The first dimension represents the number of iterations performed, the second dimension represents the rank of the observation, and the third dimension represents the log-likelihood and the index of the previous observation.\n",
        "\n",
        "Finally, the code calculates the log-likelihood for the given data set by using the dp array. It then prints the results and outputs the indices of the observations that were used in the calculation\n"
      ],
      "metadata": {
        "id": "EX9kjPB88gXv"
      }
    }
  ]
}